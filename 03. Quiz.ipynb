{
 "cells": [
  {
   "cell_type": "code",
   "execution_count": 2,
   "metadata": {},
   "outputs": [
    {
     "name": "stdout",
     "output_type": "stream",
     "text": [
      "{'a', 'b'}\n"
     ]
    }
   ],
   "source": [
    "set1={\"a\",3,\"b\",3}\n",
    "\n",
    "set1.remove(3)\n",
    "print(set1)"
   ]
  },
  {
   "cell_type": "markdown",
   "metadata": {},
   "source": [
    "Sets are unordered and do not allow duplicates"
   ]
  },
  {
   "cell_type": "raw",
   "metadata": {},
   "source": [
    "Which of the following is not the correct syntax for creating a set?\n",
    "1) set([[1,2],[3,4]])      ------> This is not correct\n",
    "2) set([1,2,2,3,4])\n",
    "3) set((1,2,3,4))\n",
    "4) {1,2,3,4}"
   ]
  },
  {
   "cell_type": "raw",
   "metadata": {},
   "source": [
    "Which of the following statements is used to create an empty set?\n",
    "{ }\n",
    "set()             ----> This statement\n",
    "[ ]\n",
    "( )"
   ]
  },
  {
   "cell_type": "code",
   "execution_count": 6,
   "metadata": {},
   "outputs": [
    {
     "name": "stdout",
     "output_type": "stream",
     "text": [
      "{'Black', 'Blue', 'Yellow', 'Orange'}\n"
     ]
    }
   ],
   "source": [
    "sampleSet = {\"Yellow\", \"Orange\", \"Black\"}\n",
    "\n",
    "sampleSet.add(\"Blue\")\n",
    "\n",
    "sampleSet.add(\"Orange\")\n",
    "\n",
    "print(sampleSet)"
   ]
  },
  {
   "cell_type": "raw",
   "metadata": {},
   "source": [
    " Which of the following options will give an error if \n",
    "set1={2,3,4,5}\n",
    "\n",
    "1) print(set1[0])\n",
    "2) set1[0]=9\n",
    "3) set1=set1+{7}\n",
    "4) All of the above     ------> All of the above"
   ]
  },
  {
   "cell_type": "raw",
   "metadata": {},
   "source": [
    "Set members must not be hashable.\n",
    "-----> Flase"
   ]
  },
  {
   "cell_type": "code",
   "execution_count": 7,
   "metadata": {},
   "outputs": [],
   "source": [
    "a={1,2,3}\n",
    "\n",
    "b=a.add(4)\n",
    "\n",
    "b\n",
    "# Nothing is printed"
   ]
  },
  {
   "cell_type": "raw",
   "metadata": {},
   "source": [
    "s = {'A', 'B', 'C', 'D'}\n",
    "\n",
    "Which of the following remove element 'B' from s:\n",
    "1) s &= {'A', 'B', 'D'}\n",
    "2) del s['B']\n",
    "3) s.discard('B')      ------>\n",
    "4) s.pop()"
   ]
  },
  {
   "cell_type": "code",
   "execution_count": 8,
   "metadata": {},
   "outputs": [
    {
     "name": "stdout",
     "output_type": "stream",
     "text": [
      "{2, 4}\n"
     ]
    }
   ],
   "source": [
    "A = {0, 2, 4, 6, 8}; \n",
    "\n",
    "B = {1, 2, 3, 4, 5}; \n",
    "\n",
    "print(A & B)"
   ]
  },
  {
   "cell_type": "code",
   "execution_count": null,
   "metadata": {},
   "outputs": [],
   "source": []
  }
 ],
 "metadata": {
  "kernelspec": {
   "display_name": "Python 3",
   "language": "python",
   "name": "python3"
  },
  "language_info": {
   "codemirror_mode": {
    "name": "ipython",
    "version": 3
   },
   "file_extension": ".py",
   "mimetype": "text/x-python",
   "name": "python",
   "nbconvert_exporter": "python",
   "pygments_lexer": "ipython3",
   "version": "3.8.5"
  }
 },
 "nbformat": 4,
 "nbformat_minor": 4
}
