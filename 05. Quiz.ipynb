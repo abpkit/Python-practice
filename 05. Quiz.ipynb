{
 "cells": [
  {
   "cell_type": "code",
   "execution_count": 2,
   "metadata": {},
   "outputs": [
    {
     "name": "stdout",
     "output_type": "stream",
     "text": [
      "{'a', 'b'}\n"
     ]
    }
   ],
   "source": [
    "set1={\"a\",3,\"b\",3}\n",
    "\n",
    "set1.remove(3)\n",
    "print(set1)"
   ]
  },
  {
   "cell_type": "raw",
   "metadata": {},
   "source": [
    "Select which is true for Python sets\n",
    "\n",
    "1) Sets are unordered and do not allow duplicates ----->\n",
    "2) Sets are ordered\n",
    "3) Set allow duplicate\n",
    "4) a set object does support indexing"
   ]
  },
  {
   "cell_type": "raw",
   "metadata": {},
   "source": [
    "Which of the following is not the correct syntax for creating a set?\n",
    "\n",
    "1) set([[1,2],[3,4]])        ------>\n",
    "2) set([1,2,2,3,4])\n",
    "3) set((1,2,3,4))\n",
    "4) {1,2,3,4}"
   ]
  },
  {
   "cell_type": "raw",
   "metadata": {},
   "source": [
    "Which of the following statements is used to create an empty set?\n",
    "1) { }\n",
    "2) set()     ------>\n",
    "3) [ ]\n",
    "4) ( )"
   ]
  },
  {
   "cell_type": "code",
   "execution_count": 3,
   "metadata": {},
   "outputs": [
    {
     "name": "stdout",
     "output_type": "stream",
     "text": [
      "{'Black', 'Blue', 'Yellow', 'Orange'}\n"
     ]
    }
   ],
   "source": [
    "sampleSet = {\"Yellow\", \"Orange\", \"Black\"}\n",
    "\n",
    "sampleSet.add(\"Blue\")\n",
    "\n",
    "sampleSet.add(\"Orange\")\n",
    "\n",
    "print(sampleSet)"
   ]
  },
  {
   "cell_type": "raw",
   "metadata": {},
   "source": [
    "Which of the following options will give an error if set1={2,3,4,5}?\n",
    "1) print(set1[0])\n",
    "2) set1[0]=9\n",
    "3) set1=set1+{7}\n",
    "4) All of the above       ------।\n"
   ]
  },
  {
   "cell_type": "code",
   "execution_count": null,
   "metadata": {},
   "outputs": [],
   "source": [
    "Set members must not be hashable.\n",
    "1) True\n",
    "2) False             -------।"
   ]
  },
  {
   "cell_type": "code",
   "execution_count": null,
   "metadata": {},
   "outputs": [],
   "source": [
    "Suppose a set sis defined as follows\n",
    "\n",
    "s = {'A', 'B', 'C', 'D'}\n",
    "\n",
    "Which of the following remove element 'B' from s:\n",
    "s &= {'A', 'B', 'D'}\n",
    "del s['B']\n",
    "s.discard('B')            ------।\n",
    "s.pop()"
   ]
  },
  {
   "cell_type": "code",
   "execution_count": 4,
   "metadata": {},
   "outputs": [
    {
     "name": "stdout",
     "output_type": "stream",
     "text": [
      "{2, 4}\n"
     ]
    }
   ],
   "source": [
    "A = {0, 2, 4, 6, 8}; \n",
    "\n",
    "B = {1, 2, 3, 4, 5}; \n",
    "\n",
    "print(A & B)\n"
   ]
  },
  {
   "cell_type": "code",
   "execution_count": null,
   "metadata": {},
   "outputs": [],
   "source": []
  }
 ],
 "metadata": {
  "kernelspec": {
   "display_name": "Python 3",
   "language": "python",
   "name": "python3"
  },
  "language_info": {
   "codemirror_mode": {
    "name": "ipython",
    "version": 3
   },
   "file_extension": ".py",
   "mimetype": "text/x-python",
   "name": "python",
   "nbconvert_exporter": "python",
   "pygments_lexer": "ipython3",
   "version": "3.8.5"
  }
 },
 "nbformat": 4,
 "nbformat_minor": 4
}
