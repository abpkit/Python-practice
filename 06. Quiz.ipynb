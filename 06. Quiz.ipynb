{
 "cells": [
  {
   "cell_type": "raw",
   "metadata": {},
   "source": [
    "1. Which one of the following is correct?\n",
    "\n",
    "1. A dictionary can have two same keys with different values.\n",
    "2. A dictionary can have two same values with different keys     ------>\n",
    "3. A dictionary can have two same keys or same values but cannot have two same key-value pair\n",
    "4. A python, a dictionary can neither have two same keys nor two same values."
   ]
  },
  {
   "cell_type": "raw",
   "metadata": {},
   "source": [
    "2. In Python, Dictionaries are immutable\n",
    "\n",
    "False\n"
   ]
  },
  {
   "cell_type": "code",
   "execution_count": 1,
   "metadata": {},
   "outputs": [
    {
     "data": {
      "text/plain": [
       "True"
      ]
     },
     "execution_count": 1,
     "metadata": {},
     "output_type": "execute_result"
    }
   ],
   "source": [
    "# 3.\n",
    "d = {\"john\":40, \"peter\":45}\n",
    "\n",
    "\"john\" in d"
   ]
  },
  {
   "cell_type": "raw",
   "metadata": {},
   "source": [
    "4. To obtain the number of entries in dictionary which command is used?\n",
    "\n",
    "1) d.size()\n",
    "2) len(d)         ----->\n",
    "3) size(d)\n",
    "4) d.len()"
   ]
  },
  {
   "cell_type": "raw",
   "metadata": {},
   "source": [
    "5. Select a correct way to empty the following dictionary.\n",
    "\n",
    "student = {\n",
    "\n",
    "  \"name\": \"Emma\",\n",
    "\n",
    "  \"class\": 9,\n",
    "\n",
    "  \"marks\": 75\n",
    "\n",
    "}\n",
    "\n",
    "=====>\n",
    "1) del student\n",
    "2) del student[0:2]\n",
    "3) student.clear()      ----->"
   ]
  },
  {
   "cell_type": "raw",
   "metadata": {},
   "source": [
    "6. Which of the following is not a declaration of the dictionary?\n",
    "\n",
    "1) {1: ‘A’, 2: ‘B’}\n",
    "2) dict([[1,”A”],[2,”B”]])\n",
    "3) {1,”A”,2”B”}         ----->\n",
    "4) { }"
   ]
  },
  {
   "cell_type": "raw",
   "metadata": {},
   "source": [
    "7. If ‘a’ is a dictionary with some key-value pairs, what does a.popitem() do?\n",
    "\n",
    "1) Removes an arbitrary element      ----->\n",
    "2) Removes all the key-value pairs\n",
    "3) Removes the key-value pair for the key given as an argument\n",
    "4) Invalid method for dictionary\n"
   ]
  },
  {
   "cell_type": "raw",
   "metadata": {},
   "source": [
    "8. Which of the following will give error?\n",
    "dict1={\"a\":1,\"b\":2,\"c\":3}\n",
    "\n",
    "1) print(len(dict1))\n",
    "2) print(dict1.get(\"b\"))\n",
    "3) dict1[\"a\"]=5\n",
    "4) None of these.       ----->"
   ]
  },
  {
   "cell_type": "code",
   "execution_count": 2,
   "metadata": {},
   "outputs": [
    {
     "name": "stdout",
     "output_type": "stream",
     "text": [
      "3\n"
     ]
    }
   ],
   "source": [
    "# 9.\n",
    "D = {1 : 1, 2 : '2', '1' : 1, '2' : 3}\n",
    "\n",
    "D['1'] = 2\n",
    "\n",
    "print(D[D[D[str(D[1])]]])"
   ]
  },
  {
   "cell_type": "code",
   "execution_count": null,
   "metadata": {},
   "outputs": [],
   "source": []
  }
 ],
 "metadata": {
  "kernelspec": {
   "display_name": "Python 3",
   "language": "python",
   "name": "python3"
  },
  "language_info": {
   "codemirror_mode": {
    "name": "ipython",
    "version": 3
   },
   "file_extension": ".py",
   "mimetype": "text/x-python",
   "name": "python",
   "nbconvert_exporter": "python",
   "pygments_lexer": "ipython3",
   "version": "3.8.5"
  }
 },
 "nbformat": 4,
 "nbformat_minor": 4
}
