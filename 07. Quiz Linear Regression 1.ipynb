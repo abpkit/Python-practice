{
 "cells": [
  {
   "cell_type": "raw",
   "metadata": {},
   "source": [
    "1) Which of the following step/assumption in regression modeling impacts \n",
    "   the trade-off between under-fitting and over-fitting the most.\n",
    "\n",
    "1. The Polynomial degree          ----->\n",
    "2. Whether we learn the weights by matrix inversion or gradient\n",
    "3. Use of a constant-term"
   ]
  },
  {
   "cell_type": "raw",
   "metadata": {},
   "source": [
    "2) Suppose you have the following data with one real-value input variable \n",
    "   & one real-value output variable. What is leave-one out cross validation\n",
    "   mean square error in case of linear regression (Y = bX+c)?\n",
    "\n",
    "1) 10/27\n",
    "2) 20/27\n",
    "3) 50/27\n",
    "4) 49/27             ----->\n"
   ]
  },
  {
   "cell_type": "raw",
   "metadata": {},
   "source": [
    "3) Which of the following is/ are true about “Maximum Likelihood estimate (MLE)”?\n",
    "   1. MLE may not always exist\n",
    "   2. MLE always exists\n",
    "   3. If MLE exist, it (they) may not be unique\n",
    "   4. If MLE exist, it (they) must be unique\n",
    "\n",
    "a) 1 and 4\n",
    "b) 2 and 3\n",
    "c) 1 and 3    ----->\n",
    "d) 2 and 4"
   ]
  },
  {
   "cell_type": "raw",
   "metadata": {},
   "source": [
    "4) Let’s say, a “Linear regression” model perfectly fits the training data (train error is zero). \n",
    "   Now, Which of the following statement is true?\n",
    "\n",
    "1) You will always have test error zero\n",
    "2) You cannot have test error zero \n",
    "3) None of the above              ----->\n",
    "4) All of the above"
   ]
  },
  {
   "cell_type": "raw",
   "metadata": {},
   "source": [
    "5) In a linear regression problem, we are using “R-squared” to measure goodness-of-fit. We add a feature in linear regression model and retrain the same model. Which of the following option is true?\n",
    "\n",
    "1) If R Squared increases, this variable is significant\n",
    "2) If R Squared decreases, this variable is not significant.\n",
    "3) Individually R squared cannot tell about variable importance. We can’t say anything about it right now. ----->\n",
    "4) None of these"
   ]
  },
  {
   "cell_type": "raw",
   "metadata": {},
   "source": [
    "6) Which one of the statement is true regarding residuals in regression analysis?\n",
    "\n",
    "1) Mean of residuals is always zero     ----->\n",
    "2) Mean of residuals is always less than zero\n",
    "3) Mean of residuals is always greater than zero\n",
    "4) There is no such rule for residuals."
   ]
  },
  {
   "cell_type": "raw",
   "metadata": {},
   "source": [
    "7) Which of the one is true about Heteroskedasticity?\n",
    "\n",
    "1) Linear Regression with varying error terms     ----->\n",
    "2) Linear Regression with constant error terms\n",
    "3) Linear Regression with zero error terms\n",
    "4) None of these"
   ]
  },
  {
   "cell_type": "raw",
   "metadata": {},
   "source": [
    "8) Which of the following indicates a fairly strong relationship between X and Y?\n",
    "\n",
    "1) Correlation coefficient = 0.9         ----->\n",
    "2) The p-value for the null hypothesis Beta coefficient =0 is 0.0001\n",
    "3) The t-statistic for the null hypothesis Beta coefficient=0 is 30\n",
    "4) None of these"
   ]
  },
  {
   "cell_type": "raw",
   "metadata": {},
   "source": [
    "9) Which of the following assumptions do we make while deriving linear regression parameters?\n",
    "   1. The true relationship between dependent y and predictor x is linear.\n",
    "   2. The model errors are statistically independent.\n",
    "   3. The errors are normally distributed with a 0 mean and constant standard deviation.\n",
    "   4. The predictor x is non-stochastic and is measured error-free.\n",
    "\n",
    "a) 1,2 and 3\n",
    "b) 1,3 and 4\n",
    "c) 1 and 3\n",
    "d) All of the above      ----->"
   ]
  },
  {
   "cell_type": "raw",
   "metadata": {},
   "source": [
    "10) To test linear relationship of y(dependent) and x(independent) continuous variables,\n",
    "    which of the following plot best suited?\n",
    "\n",
    "1) Scatter plot          ----->\n",
    "2) Bar chart\n",
    "3) Histograms\n",
    "4) None of these\n"
   ]
  }
 ],
 "metadata": {
  "kernelspec": {
   "display_name": "Python 3",
   "language": "python",
   "name": "python3"
  },
  "language_info": {
   "codemirror_mode": {
    "name": "ipython",
    "version": 3
   },
   "file_extension": ".py",
   "mimetype": "text/x-python",
   "name": "python",
   "nbconvert_exporter": "python",
   "pygments_lexer": "ipython3",
   "version": "3.8.5"
  }
 },
 "nbformat": 4,
 "nbformat_minor": 4
}
