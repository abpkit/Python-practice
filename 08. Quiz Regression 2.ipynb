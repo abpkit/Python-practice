{
 "cells": [
  {
   "cell_type": "raw",
   "metadata": {},
   "source": [
    "1) Generally, which of the following method(s) is used for predicting continuous dependent variable?\n",
    "   1. Linear Regression\n",
    "   2. Logistic Regression\n",
    "\n",
    "1 and 2\n",
    "only 1         ----->\n",
    "only 2\n",
    "None of the above"
   ]
  },
  {
   "cell_type": "raw",
   "metadata": {},
   "source": [
    "2) A correlation between age and health of a person found to be -1.09.\n",
    "   On the basis of this you would tell the doctors that:\n",
    "\n",
    "The age is good predictor of health\n",
    "The age is poor predictor of health\n",
    "None of these      ----->\n",
    "     "
   ]
  },
  {
   "cell_type": "raw",
   "metadata": {},
   "source": [
    "3) Which of the following offsets, do we use in case of least square line fit? \n",
    "   Suppose horizontal axis is independent variable and vertical axis is dependent variable.\n",
    "\n",
    "Vertical offset\n",
    "Perpendicular offset          ----->\n",
    "Both but depend on situation\n",
    "None of above"
   ]
  },
  {
   "cell_type": "raw",
   "metadata": {},
   "source": [
    "4) Suppose we have generated the data with help of polynomial regression of degree 3 \n",
    "   (degree 3 will perfectly fit this data). Now consider below points and choose \n",
    "    the option based on these points.\n",
    "1.Simple Linear regression will have high bias and low variance.\n",
    "2. Simple Linear regression will have low bias and high variance.\n",
    "3. polynomial of degree 3 will have low bias and high variance.\n",
    "4. Polynomial of degree 3 will have low bias and Low variance.\n",
    "\n",
    "only 1\n",
    "1 and 3\n",
    "1 and 4       ----->\n",
    "2 and 4"
   ]
  },
  {
   "cell_type": "raw",
   "metadata": {},
   "source": [
    "5) Suppose you are training a linear regression model. Now consider these points.\n",
    "   1. Overfitting is more likely if we have less data.\n",
    "   2. Overfitting is more likely when the hypothesis space is small.\n",
    "\n",
    "Both are False\n",
    "1 is False and 2 is True\n",
    "1 is True and 2 is False  ----->\n",
    "Both are True"
   ]
  },
  {
   "cell_type": "raw",
   "metadata": {},
   "source": [
    "6) Which of the following is true about “Ridge” or “Lasso” regression methods in case of feature selection?\n",
    "\n",
    "Ridge regression uses subset selection of features\n",
    "Lasso regression uses subset selection of features    ------>\n",
    "Both use subset selection of features\n",
    "None of above"
   ]
  },
  {
   "cell_type": "raw",
   "metadata": {},
   "source": [
    "7) Which of the following metrics can be used for evaluating regression models?\n",
    "1. R Squared\n",
    "2. Adjusted R Squared\n",
    "3. F Statistics\n",
    "4. RMSE / MSE / MAE\n",
    "\n",
    "2 and 4\n",
    "1 and 2\n",
    "2,3 and 4\n",
    "All of the above       ----->"
   ]
  },
  {
   "cell_type": "raw",
   "metadata": {},
   "source": [
    "8) We can also compute the coefficient of linear regression with the help of an analytical \n",
    "method called “Normal Equation”. Which of the following is/are true about “Normal Equation”?\n",
    "1. We don’t have to choose the learning rate.\n",
    "2. It becomes slow when number of features is very large.\n",
    "3. No need to iterate\n",
    "\n",
    "1 and 2\n",
    "1 and 3\n",
    "2 and 3\n",
    "1,2 and 3      ----->"
   ]
  },
  {
   "cell_type": "raw",
   "metadata": {},
   "source": [
    "9) How many coefficients do you need to estimate in a simple linear regression model (One independent variable)?\n",
    "\n",
    "1\n",
    "2         ----->\n",
    "Can't say"
   ]
  },
  {
   "cell_type": "code",
   "execution_count": null,
   "metadata": {},
   "outputs": [],
   "source": []
  }
 ],
 "metadata": {
  "kernelspec": {
   "display_name": "Python 3",
   "language": "python",
   "name": "python3"
  },
  "language_info": {
   "codemirror_mode": {
    "name": "ipython",
    "version": 3
   },
   "file_extension": ".py",
   "mimetype": "text/x-python",
   "name": "python",
   "nbconvert_exporter": "python",
   "pygments_lexer": "ipython3",
   "version": "3.8.5"
  }
 },
 "nbformat": 4,
 "nbformat_minor": 4
}
