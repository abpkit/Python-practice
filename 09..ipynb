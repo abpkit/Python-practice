{
 "cells": [
  {
   "cell_type": "markdown",
   "metadata": {},
   "source": [
    "1) What is the zip() function used for?\n",
    "\n",
    "----->Answer: The zip() function will return a zip object, which is an iterator of tuples where \n",
    "the first and second items in each provided iterator are coupled together, and so on. The iterator\n",
    "with the fewest elements determines the length of the new iterator if the lengths of the previous \n",
    "iterators were different."
   ]
  },
  {
   "cell_type": "code",
   "execution_count": 1,
   "metadata": {},
   "outputs": [
    {
     "name": "stdout",
     "output_type": "stream",
     "text": [
      "(('CopyAssignment', 'Leader in Python'), ('Interview', 'Questions and Answers'))\n"
     ]
    }
   ],
   "source": [
    "t1 = (\"CopyAssignment\", \"Interview\")\n",
    "t2 = (\"Leader in Python\", \"Questions and Answers\")\n",
    "\n",
    "x = zip(t1, t2)\n",
    "\n",
    "print(tuple(x))"
   ]
  },
  {
   "cell_type": "raw",
   "metadata": {},
   "source": [
    "2) Does Python allows type conversion. \n",
    "   If yes then state some of the type conversion functions?\n",
    "    \n",
    "-----> \n",
    "Yes !! Python offers the much-needed type conversion capability, which allows us to change one data type into the one we require. Some of the built-in functions are:\n",
    "\n",
    "Functions\tDescription\n",
    "tuple()\tConverts to a tuple\n",
    "dict()\tConverts tuple to the dictionary\n",
    "str()\tConverts into string\n",
    "int()\tConverts into integer\n",
    "set()\tConverts into set"
   ]
  },
  {
   "cell_type": "raw",
   "metadata": {},
   "source": [
    "3) What’s the difference between remove() and del()?\n",
    "   This question is not the favorite question of interviewers of python\n",
    "    but may be good for python interview questions for freshers.\n",
    "\n",
    "----->\n",
    "1)\n",
    "del: It is a keyword and it takes the index of the element that we want to delete.\n",
    "     Please note that del is a keyword."
   ]
  },
  {
   "cell_type": "code",
   "execution_count": 2,
   "metadata": {},
   "outputs": [
    {
     "name": "stdout",
     "output_type": "stream",
     "text": [
      "Element at index 4 to be deleted:\n",
      "After deletetion:  [11, 22, 33, 44, 66, 77]\n"
     ]
    }
   ],
   "source": [
    "mylist = [11, 22, 33, 44, 55, 66, 77]\n",
    "del mylist[4]\n",
    "print(\"Element at index 4 to be deleted:\")\n",
    "print(\"After deletetion: \", mylist)"
   ]
  },
  {
   "cell_type": "raw",
   "metadata": {},
   "source": [
    "----->\n",
    "2) remove(): It is a method and it takes the element that is to be removed."
   ]
  },
  {
   "cell_type": "code",
   "execution_count": 3,
   "metadata": {},
   "outputs": [
    {
     "name": "stdout",
     "output_type": "stream",
     "text": [
      "44 number is to be deleted:\n",
      "After removal:  [11, 22, 33, 55, 66, 77]\n"
     ]
    }
   ],
   "source": [
    "mylist = [11, 22, 33, 44, 55, 66, 77]\n",
    "mylist.remove(44)\n",
    "print(\"44 number is to be deleted:\")\n",
    "print(\"After removal: \", mylist)"
   ]
  },
  {
   "cell_type": "raw",
   "metadata": {},
   "source": [
    "4) How will you read a random line from the file?\n",
    "----->\n",
    "We will use a choice() method. It simply returns any random element from the given \n",
    "sequence of elements. The sequence can be of any type, including strings, ranges, lists, tuples, and more."
   ]
  },
  {
   "cell_type": "code",
   "execution_count": 7,
   "metadata": {},
   "outputs": [
    {
     "name": "stdout",
     "output_type": "stream",
     "text": [
      "This is the random line read from the file:\n",
      "\n",
      "Academic Qualification\t\n"
     ]
    }
   ],
   "source": [
    "import random\n",
    "def readRandomLine(f):\n",
    "    lines = open(f).read().splitlines()\n",
    "    return random.choice(lines)\n",
    "print(\"This is the random line read from the file:\\n\")\n",
    "print(readRandomLine ('C:/Users/Abhi/Desktop/Marks %.txt'))"
   ]
  },
  {
   "cell_type": "code",
   "execution_count": 17,
   "metadata": {},
   "outputs": [
    {
     "name": "stdout",
     "output_type": "stream",
     "text": [
      "{}\n",
      "{'john': 40, 'peter': 45}\n",
      "{40: 'john', 45: 'peter'}\n"
     ]
    }
   ],
   "source": [
    "#5) Which of the below option will create a dictionary?\n",
    "a = {}\n",
    "b = {\"john\":40, \"peter\":45}\n",
    "#c = (40:\"john\", 45:\"50\")\n",
    "d = {40:\"john\", 45:\"peter\"}\n",
    "\n",
    "#-----> 1, 2 and 4\n",
    "print(a)\n",
    "print(b)\n",
    "print(d)"
   ]
  },
  {
   "cell_type": "code",
   "execution_count": null,
   "metadata": {},
   "outputs": [],
   "source": []
  }
 ],
 "metadata": {
  "kernelspec": {
   "display_name": "Python 3",
   "language": "python",
   "name": "python3"
  },
  "language_info": {
   "codemirror_mode": {
    "name": "ipython",
    "version": 3
   },
   "file_extension": ".py",
   "mimetype": "text/x-python",
   "name": "python",
   "nbconvert_exporter": "python",
   "pygments_lexer": "ipython3",
   "version": "3.8.5"
  }
 },
 "nbformat": 4,
 "nbformat_minor": 4
}
