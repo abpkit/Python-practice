{
 "cells": [
  {
   "cell_type": "raw",
   "metadata": {},
   "source": [
    "1. The most widely used metrics and tools to assess a classification model are:\n",
    "\n",
    "Confusion matrix\n",
    "cost-sensitive accuracy\n",
    "Area under the ROC curve\n",
    "All of the above      ----->"
   ]
  },
  {
   "cell_type": "raw",
   "metadata": {},
   "source": [
    "2. How do you handle missing or corrupted data in a dataset?\n",
    "\n",
    "Drop missing rows or columns\n",
    "Replace missing values with mean/median/mode\n",
    "Assign a unique category to missing values\n",
    "All of the above    ----->"
   ]
  },
  {
   "cell_type": "raw",
   "metadata": {},
   "source": [
    "3. When performing regression or classification, which of the following is the correct way to preprocess the data?\n",
    "\n",
    "Normalize the data → PCA → training           ----->\n",
    "PCA → normalize PCA output → training\n",
    "Normalize the data → PCA → normalize PCA output → training\n",
    "None of the above"
   ]
  },
  {
   "cell_type": "raw",
   "metadata": {},
   "source": [
    "4. Which of the following is a widely used and effective machine learning algorithm based on the idea of bagging?\n",
    "\n",
    "Decision Tree\n",
    "Regression\n",
    "Classification\n",
    "Random Forest       ----->"
   ]
  },
  {
   "cell_type": "raw",
   "metadata": {},
   "source": [
    "5. Which of the following is a disadvantage of decision trees?\n",
    "\n",
    "Factor analysis\n",
    "Decision trees are robust to outliers\n",
    "Decision trees are prone to be overfit        ----->\n",
    "None of the above"
   ]
  },
  {
   "cell_type": "raw",
   "metadata": {},
   "source": [
    "6. To find the minimum or the maximum of a function, we set the gradient to zero because:\n",
    "\n",
    "The value of the gradient at extrema of a function is always zero       ------>\n",
    "Depends on the type of problem\n",
    "Both 1 and 2\n",
    "None of the above"
   ]
  },
  {
   "cell_type": "raw",
   "metadata": {},
   "source": [
    "7. What is the purpose of performing cross-validation?\n",
    "\n",
    "To assess the predictive performance of the models\n",
    "To judge how the trained model performs outside the sample on test data\n",
    "Both 1 and 2               ----->\n",
    "None of the above"
   ]
  },
  {
   "cell_type": "raw",
   "metadata": {},
   "source": [
    "8. Which of the following is a good test dataset characteristic?\n",
    "\n",
    "Large enough to yield meaningful results\n",
    "representative of the dataset as a whole\n",
    "Both 1 and 2               ----->\n",
    "None of the above "
   ]
  },
  {
   "cell_type": "raw",
   "metadata": {},
   "source": [
    "9. Why is second order differencing in time series needed?\n",
    "\n",
    "To remove stationarity\n",
    "To find the maxima or minima at the local point\n",
    "Both 1 and 2            ----->\n",
    "None of the above"
   ]
  },
  {
   "cell_type": "raw",
   "metadata": {},
   "source": [
    "10. Which of the folllowing is an example of feature extraction?\n",
    "\n",
    "Constructing bag of words vector from an email\n",
    "Applying PCA projects to a large high-dimensional data\n",
    "Removing stopwords in a sentence\n",
    "All of the above       ----->"
   ]
  }
 ],
 "metadata": {
  "kernelspec": {
   "display_name": "Python 3",
   "language": "python",
   "name": "python3"
  },
  "language_info": {
   "codemirror_mode": {
    "name": "ipython",
    "version": 3
   },
   "file_extension": ".py",
   "mimetype": "text/x-python",
   "name": "python",
   "nbconvert_exporter": "python",
   "pygments_lexer": "ipython3",
   "version": "3.8.5"
  }
 },
 "nbformat": 4,
 "nbformat_minor": 4
}
