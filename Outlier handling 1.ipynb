{
 "cells": [
  {
   "cell_type": "markdown",
   "metadata": {},
   "source": [
    "# Various ways to handle outlier\n",
    "1. Using scatter plot\n",
    "2. Box plot\n",
    "3. Using Z score\n",
    "4. Using the IQR interquantile range"
   ]
  },
  {
   "cell_type": "code",
   "execution_count": 26,
   "metadata": {},
   "outputs": [],
   "source": [
    "dataset = [11,10,12,14,12,15,14,13,15,102,12,14,17,19,107,10,13,12,14,12,108,12,11,14,13,15,10,15,12,16,11,10,2,3]"
   ]
  },
  {
   "cell_type": "code",
   "execution_count": 27,
   "metadata": {},
   "outputs": [],
   "source": [
    "import numpy as np"
   ]
  },
  {
   "cell_type": "markdown",
   "metadata": {},
   "source": [
    "# Detecting outlier using Z score\n",
    "Formula for Z score = (Observation - Mean)/standard deviation\n",
    "\n",
    "Z = (X-µ)/σ\n"
   ]
  },
  {
   "cell_type": "code",
   "execution_count": 28,
   "metadata": {},
   "outputs": [],
   "source": [
    "outliers = []\n",
    "def detect_outliers(data):\n",
    "    \n",
    "    threshold = 3       # 3rd standard deviation\n",
    "    mean = np.mean(data)\n",
    "    std = np.std(data)\n",
    "    \n",
    "    for i in data:\n",
    "        z_score = (i - mean)/std\n",
    "        if np.abs(z_score) > threshold:\n",
    "            outliers.append(i)\n",
    "    return outliers"
   ]
  },
  {
   "cell_type": "code",
   "execution_count": 29,
   "metadata": {},
   "outputs": [],
   "source": [
    "outliers_pt = detect_outliers(set)\n"
   ]
  },
  {
   "cell_type": "code",
   "execution_count": 30,
   "metadata": {},
   "outputs": [
    {
     "data": {
      "text/plain": [
       "[102, 107, 108]"
      ]
     },
     "execution_count": 30,
     "metadata": {},
     "output_type": "execute_result"
    }
   ],
   "source": [
    "outliers_pt"
   ]
  },
  {
   "cell_type": "markdown",
   "metadata": {},
   "source": [
    "# InterQuantile Range\n",
    "75 % - 25 % values in dataset\n",
    "\n",
    "Steps\n",
    "1. Arrange the data in ascending order \n",
    "2. Calculate 1st Quartile(q1) and 3rd Quartile(q3)\n",
    "3. Find interquartile range (q3 - q1)\n",
    "4. FInd lower bound q1 * 1.5\n",
    "5. Find upper bound q3 * 1.5\n",
    "Anything that lies in between upper and lower bound is outlier"
   ]
  },
  {
   "cell_type": "code",
   "execution_count": 32,
   "metadata": {},
   "outputs": [
    {
     "name": "stdout",
     "output_type": "stream",
     "text": [
      "11.25 15.0\n"
     ]
    }
   ],
   "source": [
    "quantile1, quantile3 = np.percentile(dataset,[25,75])\n",
    "print(quantile1, quantile3)"
   ]
  },
  {
   "cell_type": "code",
   "execution_count": 34,
   "metadata": {},
   "outputs": [
    {
     "name": "stdout",
     "output_type": "stream",
     "text": [
      "3.75\n"
     ]
    }
   ],
   "source": [
    "# Find the IQR\n",
    "IQR_value = quantile3 - quantile1\n",
    "print(IQR_value)"
   ]
  },
  {
   "cell_type": "code",
   "execution_count": 35,
   "metadata": {},
   "outputs": [
    {
     "name": "stdout",
     "output_type": "stream",
     "text": [
      "5.625 20.625\n"
     ]
    }
   ],
   "source": [
    "# Find lower bound value and higher bound value\n",
    "lower_bound_value = quantile1 - (1.5 * IQR_value)\n",
    "upper_bound_value = quantile3 + (1.5 * IQR_value)\n",
    "print(lower_bound_value, upper_bound_value)"
   ]
  },
  {
   "cell_type": "code",
   "execution_count": null,
   "metadata": {},
   "outputs": [],
   "source": []
  }
 ],
 "metadata": {
  "kernelspec": {
   "display_name": "Python 3",
   "language": "python",
   "name": "python3"
  },
  "language_info": {
   "codemirror_mode": {
    "name": "ipython",
    "version": 3
   },
   "file_extension": ".py",
   "mimetype": "text/x-python",
   "name": "python",
   "nbconvert_exporter": "python",
   "pygments_lexer": "ipython3",
   "version": "3.8.5"
  }
 },
 "nbformat": 4,
 "nbformat_minor": 4
}
